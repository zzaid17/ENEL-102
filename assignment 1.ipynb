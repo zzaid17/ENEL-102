{
 "cells": [
  {
   "cell_type": "code",
   "execution_count": 4,
   "metadata": {},
   "outputs": [
    {
     "name": "stdout",
     "output_type": "stream",
     "text": [
      "33.40807559372164\n"
     ]
    }
   ],
   "source": [
    "import math\n",
    "\n",
    "x = sum(k**2 * math.sin(0.1 * k**2) for k in range(-3, 5))\n",
    "\n",
    "print(x)"
   ]
  },
  {
   "cell_type": "code",
   "execution_count": 5,
   "metadata": {},
   "outputs": [
    {
     "name": "stdout",
     "output_type": "stream",
     "text": [
      "56.67140841573445\n"
     ]
    }
   ],
   "source": [
    "import math\n",
    "\n",
    "x = sum(sum(math.sqrt(j) * k**2 * math.sin(0.1 * (k-j)**2) for k in range(-3,5)) for j in range(1,4))\n",
    "\n",
    "print(x)"
   ]
  },
  {
   "cell_type": "code",
   "execution_count": 7,
   "metadata": {},
   "outputs": [
    {
     "name": "stdout",
     "output_type": "stream",
     "text": [
      "0.9999999977333676\n"
     ]
    }
   ],
   "source": [
    "import math\n",
    "\n",
    "x = math.sqrt(3)\n",
    "y = 0.3*x**2 + math.sqrt(x)\n",
    "z = math.sqrt(math.e) + x - math.log(x) - math.log10(x)\n",
    "v = math.sqrt(math.tanh(x*y*z))\n",
    "\n",
    "print(v)"
   ]
  },
  {
   "cell_type": "code",
   "execution_count": null,
   "metadata": {},
   "outputs": [],
   "source": [
    "import numpy as np\n",
    "import matplotlib.pyplot as plt\n",
    "\n",
    "x = np.linspace(0,4,500)\n",
    "y = np.tanh(x)\n",
    "\n",
    "plt.plot(x,y)\n",
    "plt.xlabel('x')\n",
    "plt.ylabel('y = tanh(x)')\n",
    "plt.grid(True)\n",
    "\n",
    "plt.show()"
   ]
  },
  {
   "cell_type": "code",
   "execution_count": 2,
   "metadata": {},
   "outputs": [
    {
     "name": "stdout",
     "output_type": "stream",
     "text": [
      "(1264.3700624311566+674.9862653038576j)\n"
     ]
    }
   ],
   "source": [
    "import cmath\n",
    "import numpy as np\n",
    "\n",
    "x = 4+1j\n",
    "y = 3j\n",
    "\n",
    "z = np.array([x**y, x*y**2, cmath.exp(cmath.sqrt(x))])\n",
    "\n",
    "print(np.square(z[0]) + np.square(z[1]) + np.square(z[2]))"
   ]
  },
  {
   "cell_type": "code",
   "execution_count": 5,
   "metadata": {},
   "outputs": [
    {
     "name": "stdout",
     "output_type": "stream",
     "text": [
      "Array m: [ 0.47953615 37.10795063  7.50319894]\n",
      "Array p: [-2.03336529 -2.89661399  0.24809839]\n"
     ]
    }
   ],
   "source": [
    "import cmath\n",
    "import numpy as np\n",
    "\n",
    "x = 4+1j\n",
    "y = 3j\n",
    "\n",
    "z = np.array([x**y, x*y**2, cmath.exp(cmath.sqrt(x))])\n",
    "\n",
    "m = np.abs(z)\n",
    "p = np.angle(z)\n",
    "\n",
    "print(f'Array m: {m}')\n",
    "print(f'Array p: {p}')\n"
   ]
  },
  {
   "cell_type": "code",
   "execution_count": 6,
   "metadata": {},
   "outputs": [
    {
     "name": "stdout",
     "output_type": "stream",
     "text": [
      "[[ 1  2 -3]\n",
      " [ 4  8  8]\n",
      " [ 2  2  4]]\n"
     ]
    }
   ],
   "source": [
    "import cmath\n",
    "import numpy as np\n",
    "\n",
    "x = np.array([1, 2, -3, 4, 8, 8, 2, 2, 4]).reshape(3,3)\n",
    "\n",
    "y = x + np.transpose(x) + "
   ]
  }
 ],
 "metadata": {
  "kernelspec": {
   "display_name": "Python 3",
   "language": "python",
   "name": "python3"
  },
  "language_info": {
   "codemirror_mode": {
    "name": "ipython",
    "version": 3
   },
   "file_extension": ".py",
   "mimetype": "text/x-python",
   "name": "python",
   "nbconvert_exporter": "python",
   "pygments_lexer": "ipython3",
   "version": "3.11.4"
  }
 },
 "nbformat": 4,
 "nbformat_minor": 2
}
